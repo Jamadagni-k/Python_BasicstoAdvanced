{
 "cells": [
  {
   "cell_type": "code",
   "execution_count": null,
   "id": "f4cdce04",
   "metadata": {},
   "outputs": [],
   "source": [
    "condition1 = \"fruit\"\n",
    "condition2 = \"apple\""
   ]
  },
  {
   "cell_type": "code",
   "execution_count": null,
   "id": "019b1dc3",
   "metadata": {},
   "outputs": [
    {
     "name": "stdout",
     "output_type": "stream",
     "text": [
      "Item not available\n"
     ]
    }
   ],
   "source": [
    "answer1 = input(\"Write the item you want to buy :\")\n",
    "answer2 = input(\"Write the fruit you want to buy : \")\n",
    "\n",
    "if answer1 ==\"fruit\":\n",
    "    answer2 = input(\"Write the fruit you want to buy : \")\n",
    "    if answer2 ==\"apple\":\n",
    "        print(\"Task completed\")\n",
    "    else:\n",
    "        print(\"Task not completed \")\n",
    "else:\n",
    "    print(\"Item not available\")"
   ]
  },
  {
   "cell_type": "code",
   "execution_count": 5,
   "id": "63e7b51d",
   "metadata": {},
   "outputs": [
    {
     "name": "stdout",
     "output_type": "stream",
     "text": [
      "Item not available\n"
     ]
    }
   ],
   "source": [
    "answer1 = input(\"Write the item you want to buy :\")\n",
    "\n",
    "\n",
    "if answer1 ==\"fruit\":\n",
    "    answer2 = input(\"Write the fruit you want to buy : \")\n",
    "    if answer2 ==\"apple\":\n",
    "        print(\"Task completed\")\n",
    "    else:\n",
    "        print(\"Task not completed \")\n",
    "else:\n",
    "    print(\"Item not available\")"
   ]
  },
  {
   "cell_type": "code",
   "execution_count": 10,
   "id": "0af78dd1",
   "metadata": {},
   "outputs": [
    {
     "name": "stdout",
     "output_type": "stream",
     "text": [
      "you can go to theme park\n"
     ]
    }
   ],
   "source": [
    "x= int(input(\"Enter how much money you have :\"))\n",
    "if x>=200:\n",
    "    y=int(input(\"Enter what time it is :\"))\n",
    "    if y<7:\n",
    "        print(\"you can go to theme park\")\n",
    "    else:\n",
    "        print(\"Go home please it late\")\n",
    "        \n",
    "elif x<200:\n",
    "    z=int(input(\"Enter the time\"))\n",
    "    if z>7:\n",
    "        print(\" Go to ice cream palour\")\n",
    "    else:\n",
    "        print(\"Go home\")"
   ]
  },
  {
   "cell_type": "code",
   "execution_count": 13,
   "id": "8a38e46b",
   "metadata": {},
   "outputs": [],
   "source": [
    "names = [\"agni\", \"monal\", 1,1.0,11233235,234345.566,True, False]\n"
   ]
  },
  {
   "cell_type": "code",
   "execution_count": 14,
   "id": "c6100089",
   "metadata": {},
   "outputs": [],
   "source": [
    "names.append(\"Krish\")"
   ]
  },
  {
   "cell_type": "markdown",
   "id": "49ee0b37",
   "metadata": {},
   "source": []
  },
  {
   "cell_type": "code",
   "execution_count": 15,
   "id": "e7aaca5a",
   "metadata": {},
   "outputs": [
    {
     "data": {
      "text/plain": [
       "['agni', 'monal', 1, 1.0, 11233235, 234345.566, True, False, 'Krish']"
      ]
     },
     "execution_count": 15,
     "metadata": {},
     "output_type": "execute_result"
    }
   ],
   "source": [
    "names"
   ]
  },
  {
   "cell_type": "code",
   "execution_count": 16,
   "id": "220944e9",
   "metadata": {},
   "outputs": [
    {
     "data": {
      "text/plain": [
       "9"
      ]
     },
     "execution_count": 16,
     "metadata": {},
     "output_type": "execute_result"
    }
   ],
   "source": [
    "len(names)"
   ]
  },
  {
   "cell_type": "code",
   "execution_count": 17,
   "id": "e94df9a7",
   "metadata": {},
   "outputs": [
    {
     "data": {
      "text/plain": [
       "1.0"
      ]
     },
     "execution_count": 17,
     "metadata": {},
     "output_type": "execute_result"
    }
   ],
   "source": [
    "names[3]"
   ]
  },
  {
   "cell_type": "code",
   "execution_count": 22,
   "id": "71b39180",
   "metadata": {},
   "outputs": [
    {
     "data": {
      "text/plain": [
       "'Krish'"
      ]
     },
     "execution_count": 22,
     "metadata": {},
     "output_type": "execute_result"
    }
   ],
   "source": [
    "names[-1]"
   ]
  },
  {
   "cell_type": "markdown",
   "id": "02b70da9",
   "metadata": {},
   "source": []
  },
  {
   "cell_type": "code",
   "execution_count": 23,
   "id": "66551b82",
   "metadata": {},
   "outputs": [
    {
     "data": {
      "text/plain": [
       "'agni'"
      ]
     },
     "execution_count": 23,
     "metadata": {},
     "output_type": "execute_result"
    }
   ],
   "source": [
    "names[-9]"
   ]
  },
  {
   "cell_type": "code",
   "execution_count": 25,
   "id": "d23344b6",
   "metadata": {},
   "outputs": [
    {
     "data": {
      "text/plain": [
       "['agni', 'monal', 1, 1.0, 11233235]"
      ]
     },
     "execution_count": 25,
     "metadata": {},
     "output_type": "execute_result"
    }
   ],
   "source": [
    "names[0:5]"
   ]
  },
  {
   "cell_type": "code",
   "execution_count": 26,
   "id": "5c982fde",
   "metadata": {},
   "outputs": [
    {
     "data": {
      "text/plain": [
       "['monal', 1, 1.0, 11233235, 234345.566, True, False]"
      ]
     },
     "execution_count": 26,
     "metadata": {},
     "output_type": "execute_result"
    }
   ],
   "source": [
    "names[-8:-1]"
   ]
  },
  {
   "cell_type": "markdown",
   "id": "1696eefa",
   "metadata": {},
   "source": []
  },
  {
   "cell_type": "code",
   "execution_count": 27,
   "id": "8700297a",
   "metadata": {},
   "outputs": [
    {
     "data": {
      "text/plain": [
       "[1, 1.0, 11233235, 234345.566, True, False, 'Krish']"
      ]
     },
     "execution_count": 27,
     "metadata": {},
     "output_type": "execute_result"
    }
   ],
   "source": [
    "names[-7:]"
   ]
  },
  {
   "cell_type": "code",
   "execution_count": 28,
   "id": "92f86c65",
   "metadata": {},
   "outputs": [],
   "source": [
    "patients =[]\n",
    "places = []"
   ]
  },
  {
   "cell_type": "code",
   "execution_count": 30,
   "id": "34a23e75",
   "metadata": {},
   "outputs": [
    {
     "ename": "AttributeError",
     "evalue": "'str' object has no attribute 'append'",
     "output_type": "error",
     "traceback": [
      "\u001b[31m---------------------------------------------------------------------------\u001b[39m",
      "\u001b[31mAttributeError\u001b[39m                            Traceback (most recent call last)",
      "\u001b[36mCell\u001b[39m\u001b[36m \u001b[39m\u001b[32mIn[30]\u001b[39m\u001b[32m, line 4\u001b[39m\n\u001b[32m      1\u001b[39m patient = \u001b[38;5;28minput\u001b[39m(\u001b[33m\"\u001b[39m\u001b[33mEnter name : \u001b[39m\u001b[33m\"\u001b[39m)\n\u001b[32m      2\u001b[39m place = \u001b[38;5;28minput\u001b[39m(\u001b[33m\"\u001b[39m\u001b[33mEnter place :\u001b[39m\u001b[33m\"\u001b[39m)\n\u001b[32m----> \u001b[39m\u001b[32m4\u001b[39m \u001b[43mpatients\u001b[49m\u001b[43m.\u001b[49m\u001b[43mappend\u001b[49m(patient)\n\u001b[32m      5\u001b[39m places.append(place)\n",
      "\u001b[31mAttributeError\u001b[39m: 'str' object has no attribute 'append'"
     ]
    }
   ],
   "source": [
    "patient = input(\"Enter name : \")\n",
    "place = input(\"Enter place :\")\n",
    "\n",
    "patients.append(patient)\n",
    "places.append(place)"
   ]
  },
  {
   "cell_type": "code",
   "execution_count": null,
   "id": "246db07e",
   "metadata": {},
   "outputs": [],
   "source": []
  }
 ],
 "metadata": {
  "kernelspec": {
   "display_name": "Python 3",
   "language": "python",
   "name": "python3"
  },
  "language_info": {
   "codemirror_mode": {
    "name": "ipython",
    "version": 3
   },
   "file_extension": ".py",
   "mimetype": "text/x-python",
   "name": "python",
   "nbconvert_exporter": "python",
   "pygments_lexer": "ipython3",
   "version": "3.12.0"
  }
 },
 "nbformat": 4,
 "nbformat_minor": 5
}
